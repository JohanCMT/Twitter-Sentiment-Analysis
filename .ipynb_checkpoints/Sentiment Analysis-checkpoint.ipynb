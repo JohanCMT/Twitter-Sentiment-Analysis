{
 "cells": [
  {
   "cell_type": "markdown",
   "metadata": {},
   "source": [
    "# Sentiment analysis on Tweets\n",
    "The project will create a model that will be able to predict whether the sentiment of a tweet is positive or genative"
   ]
  },
  {
   "cell_type": "markdown",
   "metadata": {},
   "source": [
    "## Load the data"
   ]
  },
  {
   "cell_type": "code",
   "execution_count": 7,
   "metadata": {},
   "outputs": [
    {
     "name": "stdout",
     "output_type": "stream",
     "text": [
      "        sentiment                                               text\n",
      "529902   Negative                              That is sad for evan \n",
      "1395040  Positive  @bowwow614 good morning darling  ...back to Mi...\n",
      "644426   Negative                I feel extremely awkward right now \n",
      "914042   Positive  @Ms_Mary_Typhoid Are you coming to the wedding...\n",
      "1117053  Positive  http://twitpic.com/69rbz - Angie &amp; @justin...\n"
     ]
    }
   ],
   "source": [
    "import pandas as pd\n",
    "import numpy as np\n",
    "df = pd.read_csv('training.1600000.processed.noemoticon.csv',\n",
    "                 encoding = 'latin',header=None)\n",
    "# Label the columns of our dataset\n",
    "df.columns = ['sentiment', 'id', 'date', 'query', 'user_id', 'text']\n",
    "# Drop the columns that we won't need\n",
    "df = df.drop(['id', 'date', 'query', 'user_id'], axis=1)\n",
    "# For this example, we are only keeping 3% of the data but ideally\n",
    "# we will train with the whole dataset if we had the computation power\n",
    "df = df.sample(frac=0.03)\n",
    "\n",
    "# Dictionary to replace the numbers to a Binary classification\n",
    "lab_to_sentiment = {0:\"Negative\", 4:\"Positive\"}\n",
    "def label_decoder(label):\n",
    "  return lab_to_sentiment[label]\n",
    "\n",
    "# We replace the sentiment values with our binary classification\n",
    "df.sentiment = df.sentiment.apply(lambda x: label_decoder(x))\n",
    "\n",
    "# Print the final data\n",
    "print(df.head())"
   ]
  },
  {
   "cell_type": "markdown",
   "metadata": {},
   "source": [
    "## Plot the data \n",
    "We plot the data just to make sure everything was correct with our sampling"
   ]
  },
  {
   "cell_type": "code",
   "execution_count": 8,
   "metadata": {},
   "outputs": [
    {
     "data": {
      "text/plain": [
       "Text(0.5, 1.0, 'Sentiment Data Distribution')"
      ]
     },
     "execution_count": 8,
     "metadata": {},
     "output_type": "execute_result"
    },
    {
     "data": {
      "image/png": "[encoded data removed]",
      "text/plain": [
       "<Figure size 576x288 with 1 Axes>"
      ]
     },
     "metadata": {
      "needs_background": "light"
     },
     "output_type": "display_data"
    }
   ],
   "source": [
    "import matplotlib.pyplot as plt\n",
    "val_count = df.sentiment.value_counts()\n",
    "\n",
    "plt.figure(figsize=(8,4))\n",
    "plt.bar(val_count.index, val_count.values)\n",
    "plt.title(\"Sentiment Data Distribution\")"
   ]
  },
  {
   "cell_type": "markdown",
   "metadata": {},
   "source": [
    "## Preprocessing of the data\n",
    "We process the data to get rid of noisy values + tokenize the words on the tweets correctly"
   ]
  },
  {
   "cell_type": "code",
   "execution_count": 9,
   "metadata": {},
   "outputs": [],
   "source": [
    "import nltk\n",
    "from nltk.corpus import stopwords\n",
    "import re\n",
    "import pickle\n",
    "from nltk.tokenize import TweetTokenizer\n",
    "\n",
    "# We load stop words from nltk corpus\n",
    "stop_words = stopwords.words('english')\n",
    "# We created a regex that will help us clean all of the links that are\n",
    "# attached in our data\n",
    "text_cleaning_re = \"@\\S+|https?:\\S+|http?:\\S|[^A-Za-z0-9]+\"\n",
    "\n",
    "# For this example, we found a TweetTokenizer which suppose to do a better job\n",
    "# at tokenize the words on a Tweet\n",
    "tknzr = TweetTokenizer()\n",
    "all_words = []\n",
    "\n",
    "# We define a function that will help us preprocess every row in our data\n",
    "def preprocess(text, stem=False):\n",
    "    # We get rid of the links on the tweets + lowercase + blank spaces at the end and beginning\n",
    "    text = re.sub(text_cleaning_re, ' ', str(text).lower()).strip()\n",
    "    tokens = []\n",
    "    # we split into words our tweet\n",
    "    words = tknzr.tokenize(text)\n",
    "    for token in words:\n",
    "        # we get rid of stop_words in our tweet as it wont add any value to our training\n",
    "        if token not in stop_words:\n",
    "            # append the token to our all_words array that will help us track the most used words\n",
    "            all_words.append(token)\n",
    "            tokens.append(token)\n",
    "            # return the new tokenized string without stop_words for our data\n",
    "    return \" \".join(tokens)\n",
    "\n",
    "# we aplly the function that we just create for every row\n",
    "df.text = df.text.apply(lambda x: preprocess(x))\n",
    "\n",
    "# we transform the dataframe into a list of tuples with the text and sentiment\n",
    "documents = []\n",
    "for index, row in df.iterrows():\n",
    "    documents.append((row['text'], row['sentiment']))\n",
    "\n",
    "# save the pickle so we don't have to process again the data\n",
    "save_doc = open(\"pickle/tweets.pickle\", \"wb\")\n",
    "pickle.dump(documents, save_doc)\n",
    "save_doc.close()\n",
    "\n",
    "# we sort by most frequent words and we select the top 5000 words used\n",
    "all_words = nltk.FreqDist(all_words)\n",
    "word_features = list(all_words.keys())[:5000]\n",
    "\n",
    "# save the pickle again so we don't have to process\n",
    "save_word = open(\"pickle/word_tweets.pickle\", \"wb\")\n",
    "pickle.dump(word_features, save_word)\n",
    "save_word.close()"
   ]
  },
  {
   "cell_type": "markdown",
   "metadata": {},
   "source": [
    "###  If the preprocessing was done we just load the pickle"
   ]
  },
  {
   "cell_type": "code",
   "execution_count": 10,
   "metadata": {},
   "outputs": [],
   "source": [
    "import pickle\n",
    "\n",
    "save_doc = open(\"pickle/tweets.pickle\", \"rb\")\n",
    "documents = pickle.load(save_doc)\n",
    "save_doc.close()\n",
    "\n",
    "save_word = open(\"pickle/word_tweets.pickle\", \"rb\")\n",
    "word_features = pickle.load(save_word)\n",
    "save_word.close()"
   ]
  },
  {
   "cell_type": "markdown",
   "metadata": {},
   "source": [
    "## Generating the training and testing dataset\n",
    "Before we separate the data, we need and extra step which is to create a dictionary for every tweet that will contain which of the most used words was used in that tweet and we will train with that dictionary"
   ]
  },
  {
   "cell_type": "code",
   "execution_count": 11,
   "metadata": {},
   "outputs": [],
   "source": [
    "# Create the dictionary for every tweet with the most used words and marking\n",
    "# True for the ones that are actually in our tweet\n",
    "def find_features(document):\n",
    "    words = document.split()\n",
    "    features = {}\n",
    "    for w in word_features:\n",
    "        features[w] = (w in words)\n",
    "    \n",
    "    return features\n",
    "\n",
    "featuresets = [(find_features(rev), category) for (rev, category) in documents]\n",
    "\n",
    "# Divide our dataset into a 90/10 ratio for training and testing\n",
    "training_size = int(len(featuresets)*.9)\n",
    "training_set = featuresets[:training_size]\n",
    "testing_set = featuresets[training_size:]\n",
    "\n",
    "# Save the pickle with the featureset\n",
    "save_featureset = open(\"pickle/featureset.pickle\", \"wb\")\n",
    "pickle.dump(featuresets, save_featureset)\n",
    "save_featureset.close()"
   ]
  },
  {
   "cell_type": "markdown",
   "metadata": {},
   "source": [
    "### If we already generated the feature set\n",
    "We just need to load the pickle and separate the training and testing data"
   ]
  },
  {
   "cell_type": "code",
   "execution_count": 4,
   "metadata": {},
   "outputs": [
    {
     "ename": "MemoryError",
     "evalue": "",
     "output_type": "error",
     "traceback": [
      "\u001b[1;31m---------------------------------------------------------------------------\u001b[0m",
      "\u001b[1;31mMemoryError\u001b[0m                               Traceback (most recent call last)",
      "\u001b[1;32m<ipython-input-4-82fc0fa3c757>\u001b[0m in \u001b[0;36m<module>\u001b[1;34m\u001b[0m\n\u001b[0;32m      1\u001b[0m \u001b[0msave_featureset\u001b[0m \u001b[1;33m=\u001b[0m \u001b[0mopen\u001b[0m\u001b[1;33m(\u001b[0m\u001b[1;34m\"pickle/featureset.pickle\"\u001b[0m\u001b[1;33m,\u001b[0m \u001b[1;34m\"rb\"\u001b[0m\u001b[1;33m)\u001b[0m\u001b[1;33m\u001b[0m\u001b[1;33m\u001b[0m\u001b[0m\n\u001b[1;32m----> 2\u001b[1;33m \u001b[0mdocuments\u001b[0m \u001b[1;33m=\u001b[0m \u001b[0mpickle\u001b[0m\u001b[1;33m.\u001b[0m\u001b[0mload\u001b[0m\u001b[1;33m(\u001b[0m\u001b[0msave_featureset\u001b[0m\u001b[1;33m)\u001b[0m\u001b[1;33m\u001b[0m\u001b[1;33m\u001b[0m\u001b[0m\n\u001b[0m\u001b[0;32m      3\u001b[0m \u001b[0msave_featureset\u001b[0m\u001b[1;33m.\u001b[0m\u001b[0mclose\u001b[0m\u001b[1;33m(\u001b[0m\u001b[1;33m)\u001b[0m\u001b[1;33m\u001b[0m\u001b[1;33m\u001b[0m\u001b[0m\n\u001b[0;32m      4\u001b[0m \u001b[1;33m\u001b[0m\u001b[0m\n\u001b[0;32m      5\u001b[0m \u001b[1;31m# Divide our dataset into a 90/10 ratio for training and testing\u001b[0m\u001b[1;33m\u001b[0m\u001b[1;33m\u001b[0m\u001b[1;33m\u001b[0m\u001b[0m\n",
      "\u001b[1;31mMemoryError\u001b[0m: "
     ]
    }
   ],
   "source": [
    "save_featureset = open(\"pickle/featureset.pickle\", \"rb\")\n",
    "documents = pickle.load(save_featureset)\n",
    "save_featureset.close()\n",
    "\n",
    "# Divide our dataset into a 90/10 ratio for training and testing\n",
    "training_size = int(len(featuresets)*.9)\n",
    "training_set = featuresets[:training_size]\n",
    "testing_set = featuresets[training_size:]"
   ]
  },
  {
   "cell_type": "markdown",
   "metadata": {},
   "source": [
    "## Train the models\n",
    "We generate correctly all of our data for training so we are ready to train the models"
   ]
  },
  {
   "cell_type": "code",
   "execution_count": 12,
   "metadata": {},
   "outputs": [
    {
     "name": "stdout",
     "output_type": "stream",
     "text": [
      "Naive Bayes Algo accuracy percent: 73.20833333333333\n",
      "Most Informative Features\n",
      "                   sadly = True           Negati : Positi =     27.0 : 1.0\n",
      "                 hurting = True           Negati : Positi =     23.7 : 1.0\n",
      "                    knee = True           Negati : Positi =     20.3 : 1.0\n",
      "                headache = True           Negati : Positi =     16.5 : 1.0\n",
      "                 welcome = True           Positi : Negati =     15.8 : 1.0\n",
      "                   awful = True           Negati : Positi =     15.4 : 1.0\n",
      "                   hurts = True           Negati : Positi =     15.3 : 1.0\n",
      "                     sad = True           Negati : Positi =     14.1 : 1.0\n",
      "              frustrated = True           Negati : Positi =     14.1 : 1.0\n",
      "                    grrr = True           Negati : Positi =     14.1 : 1.0\n",
      "               miserable = True           Negati : Positi =     14.1 : 1.0\n",
      "               depressed = True           Negati : Positi =     13.8 : 1.0\n",
      "            disappointed = True           Negati : Positi =     13.7 : 1.0\n",
      "                  throat = True           Negati : Positi =     13.6 : 1.0\n",
      "               cancelled = True           Negati : Positi =     13.4 : 1.0\n"
     ]
    }
   ],
   "source": [
    "import nltk\n",
    "from nltk.classify.scikitlearn import SklearnClassifier\n",
    "from sklearn.linear_model import LogisticRegression, SGDClassifier\n",
    "from sklearn.svm import SVC, LinearSVC, NuSVC\n",
    "from sklearn.naive_bayes import MultinomialNB, GaussianNB, BernoulliNB\n",
    "\n",
    "classifier = nltk.NaiveBayesClassifier.train(training_set)\n",
    "print('Naive Bayes Algo accuracy percent:', (nltk.classify.accuracy(classifier, testing_set)*100))\n",
    "classifier.show_most_informative_features(15)\n",
    "save_class = open(\"pickle/naive.pickle\", \"wb\")\n",
    "pickle.dump(classifier, save_class)\n",
    "save_class.close()"
   ]
  },
  {
   "cell_type": "code",
   "execution_count": null,
   "metadata": {},
   "outputs": [],
   "source": [
    "MNB_classifier = SklearnClassifier(MultinomialNB())\n",
    "MNB_classifier.train(training_set)\n",
    "print('MNB classifier Algo accuracy percent:', (nltk.classify.accuracy(MNB_classifier, testing_set)*100))\n",
    "save_class = open(\"pickle/mnb.pickle\", \"wb\")\n",
    "pickle.dump(MNB_classifier, save_class)\n",
    "save_class.close()"
   ]
  },
  {
   "cell_type": "code",
   "execution_count": 6,
   "metadata": {},
   "outputs": [
    {
     "name": "stdout",
     "output_type": "stream",
     "text": [
      "144000\n"
     ]
    }
   ],
   "source": [
    "BernoulliNB_classifier = SklearnClassifier(BernoulliNB())\n",
    "BernoulliNB_classifier.train(training_set)\n",
    "print('BernoulliNB classifier Algo accuracy percent:', (nltk.classify.accuracy(BernoulliNB_classifier, testing_set)*100))\n",
    "save_class = open(\"pickle/bernoulli.pickle\", \"wb\")\n",
    "pickle.dump(BernoulliNB_classifier, save_class)\n",
    "save_class.close()"
   ]
  },
  {
   "cell_type": "code",
   "execution_count": null,
   "metadata": {},
   "outputs": [],
   "source": [
    "SGDClassifier_classifier = SklearnClassifier(SGDClassifier())\n",
    "SGDClassifier_classifier.train(training_set)\n",
    "print('SGDClassifier classifier Algo accuracy percent:', (nltk.classify.accuracy(SGDClassifier_classifier, testing_set)*100))\n",
    "save_class = open(\"pickle/sgd.pickle\", \"wb\")\n",
    "pickle.dump(SGDClassifier_classifier, save_class)\n",
    "save_class.close()"
   ]
  },
  {
   "cell_type": "code",
   "execution_count": null,
   "metadata": {},
   "outputs": [],
   "source": [
    "LogisticRegression_classifier = SklearnClassifier(LogisticRegression())\n",
    "LogisticRegression_classifier.train(training_set)\n",
    "print('LogisticRegression classifier Algo accuracy percent:', (nltk.classify.accuracy(LogisticRegression_classifier, testing_set)*100))\n",
    "save_class = open(\"pickle/logistic.pickle\", \"wb\")\n",
    "pickle.dump(LogisticRegression_classifier, save_class)\n",
    "save_class.close()"
   ]
  },
  {
   "cell_type": "code",
   "execution_count": null,
   "metadata": {},
   "outputs": [],
   "source": [
    "LinearSVC_classifier = SklearnClassifier(LinearSVC())\n",
    "LinearSVC_classifier.train(training_set)\n",
    "print('LinearSVC classifier Algo accuracy percent:', (nltk.classify.accuracy(LinearSVC_classifier, testing_set)*100))\n",
    "save_class = open(\"pickle/linearsvc.pickle\", \"wb\")\n",
    "pickle.dump(LinearSVC_classifier, save_class)\n",
    "save_class.close()"
   ]
  },
  {
   "cell_type": "markdown",
   "metadata": {},
   "source": [
    "### If we already train all of our models\n",
    "We just pickle the classifiers so we can move on to testing"
   ]
  },
  {
   "cell_type": "code",
   "execution_count": null,
   "metadata": {},
   "outputs": [],
   "source": [
    "save_class = open(\"pickle/naive.pickle\", \"rb\")\n",
    "classifier = pickle.load(save_class)\n",
    "save_class.close()\n",
    "print('Naive Bayes Algo accuracy percent:', (nltk.classify.accuracy(classifier, testing_set)*100))\n",
    "classifier.show_most_informative_features(15)\n",
    "\n",
    "save_class = open(\"pickle/mnb.pickle\", \"rb\")\n",
    "MNB_classifier = pickle.load(save_class)\n",
    "save_class.close()\n",
    "print('MNB classifier Algo accuracy percent:', (nltk.classify.accuracy(MNB_classifier, testing_set)*100))\n",
    "\n",
    "save_class = open(\"pickle/bernoulli.pickle\", \"rb\")\n",
    "BernoulliNB_classifier = pickle.load(save_class)\n",
    "save_class.close()\n",
    "print('BernoulliNB classifier Algo accuracy percent:', (nltk.classify.accuracy(BernoulliNB_classifier, testing_set)*100))\n",
    "\n",
    "save_class = open(\"pickle/logistic.pickle\", \"rb\")\n",
    "LogisticRegression_classifier = pickle.load(save_class)\n",
    "save_class.close()\n",
    "print('LogisticRegression classifier Algo accuracy percent:', (nltk.classify.accuracy(LogisticRegression_classifier, testing_set)*100))\n",
    "\n",
    "save_class = open(\"pickle/sgd.pickle\", \"rb\")\n",
    "SGDClassifier_classifier = pickle.load(save_class)\n",
    "save_class.close()\n",
    "print('SGDClassifier classifier Algo accuracy percent:', (nltk.classify.accuracy(SGDClassifier_classifier, testing_set)*100))\n",
    "\n",
    "save_class = open(\"pickle/linearsvc.pickle\", \"rb\")\n",
    "LinearSVC_classifier = pickle.load(save_class)\n",
    "save_class.close()\n",
    "print('LinearSVC classifier Algo accuracy percent:', (nltk.classify.accuracy(LinearSVC_classifier, testing_set)*100))"
   ]
  },
  {
   "cell_type": "markdown",
   "metadata": {},
   "source": [
    "## Create Vote Classifier\n",
    "Once we have all of our models ready, we can create a Vote Classifier that will combine the prediction of each different classification model which will allow us to have a confidence on the prediction that we give for real life data."
   ]
  },
  {
   "cell_type": "code",
   "execution_count": null,
   "metadata": {},
   "outputs": [],
   "source": [
    "from nltk.classify import ClassifierI\n",
    "from statistics import mode\n",
    "\n",
    "class VoteClassifier(ClassifierI):\n",
    "    def __init__(self, *classifiers):\n",
    "        self._classifiers = classifiers\n",
    "        \n",
    "    def classify(self, features):\n",
    "        votes = []\n",
    "        for c in self._classifiers:\n",
    "            v = c.classify(features)\n",
    "            votes.append(v)\n",
    "        return mode(votes)\n",
    "    \n",
    "    def confidence(self, features):\n",
    "        votes = []\n",
    "        for c in self._classifiers:\n",
    "            v = c.classify(features)\n",
    "            votes.append(v)\n",
    "        choice_votes = votes.count(mode(votes))\n",
    "        conf = choice_votes / len(votes)\n",
    "        return conf\n",
    "    \n",
    "# We can add as many classifiers as we want to make it more robust\n",
    "voted_classifier = VoteClassifier(\n",
    "    classifier, \n",
    "    MNB_classifier, \n",
    "    BernoulliNB_classifier,\n",
    "    LogisticRegression_classifier,\n",
    "    SGDClassifier_classifier, \n",
    "    LinearSVC_classifier)\n",
    "\n",
    "print(\"voted_classifier accuracy percent:\", (nltk.classify.accuracy(voted_classifier, testing_set)) * 100)\n",
    "print(\"Classification:\", voted_classifier.classify(testing_set[0][0]), \"Confidence %: \", voted_classifier.confidence(testing_set[0][0])*100)"
   ]
  },
  {
   "cell_type": "markdown",
   "metadata": {},
   "source": [
    "## We create a function that will call this Vote Classifier\n",
    "It will receive the text and will return a tople with the classification and the confidence on the result"
   ]
  },
  {
   "cell_type": "code",
   "execution_count": null,
   "metadata": {},
   "outputs": [],
   "source": [
    "def sentiment(text):\n",
    "    feats = find_features(text)\n",
    "    return voted_classifier.classify(feats), voted_classifier.confidence(feats)"
   ]
  },
  {
   "cell_type": "markdown",
   "metadata": {},
   "source": [
    "## Evaluation on real time tweets\n",
    "We made use of the twitter API to get real time tweets and output a result for each of them in real time as well"
   ]
  },
  {
   "cell_type": "code",
   "execution_count": null,
   "metadata": {},
   "outputs": [],
   "source": [
    "from tweepy import Stream\n",
    "from tweepy import OAuthHandler\n",
    "from tweepy.streaming import StreamListener\n",
    "import json\n",
    "\n",
    "#consumer key, consumer secret, access token, access secret.\n",
    "ckey=\"3MuY1EnZFbRhfA5utqmqtGRlE\"\n",
    "csecret=\"TXutBRikoAFG2b1EmZ29xE26O71i9vOM4uuWfnyvD84Y5UfbAz\"\n",
    "atoken=\"360796736-YqflPUUIK5Dy8QmOmVYJLJPEjuCtQnLK9NovGAL0\"\n",
    "asecret=\"dmzktdklo30OKGGcnvQkjSZZsgvzLhDijodQwwCVfhfXx\"\n",
    "\n",
    "class listener(StreamListener):\n",
    "\n",
    "    def on_data(self, data):\n",
    "        all_data = json.loads(data)\n",
    "        \n",
    "        tweet = all_data[\"text\"]\n",
    "        \n",
    "        # we call our function to see the sentiment on that tweet\n",
    "        sentiment_value, confidence = s.sentiment(tweet)\n",
    "\n",
    "        # we print the results\n",
    "        print(tweet, sentiment_value, confidence)\n",
    "        \n",
    "        # if we are confident on our prediction, we will save the result for plotting in the next function\n",
    "        if confidence*100 >= 80:\n",
    "            output = open(\"twitter.txt\",\"a\")\n",
    "            output.write(sentiment_value)\n",
    "            output.write('\\n')\n",
    "            output.close()\n",
    "        return True\n",
    "\n",
    "    def on_error(self, status):\n",
    "        print(status)\n",
    "\n",
    "auth = OAuthHandler(ckey, csecret)\n",
    "auth.set_access_token(atoken, asecret)\n",
    "\n",
    "twitterStream = Stream(auth, listener())\n",
    "# we select a keyword for we will filter only the tweets related to that word\n",
    "twitterStream.filter(track=[\"car\"])"
   ]
  },
  {
   "cell_type": "markdown",
   "metadata": {},
   "source": [
    "# Plot of the Twitter Analysis\n",
    "If you want to see the plot in real time, run this script on a separate notebook"
   ]
  },
  {
   "cell_type": "code",
   "execution_count": null,
   "metadata": {},
   "outputs": [],
   "source": [
    "import matplotlib.pyplot as plt\n",
    "import matplotlib.animation as animation\n",
    "from matplotlib import style\n",
    "import time\n",
    "\n",
    "style.use(\"ggplot\")\n",
    "\n",
    "fig = plt.figure()\n",
    "ax1 = fig.add_subplot(1,1,1)\n",
    "\n",
    "def animate(i):\n",
    "    pullData = open(\"twitter.txt\",\"r\").read()\n",
    "    lines = pullData.split('\\n')\n",
    "\n",
    "    xar = []\n",
    "    yar = []\n",
    "\n",
    "    x = 0\n",
    "    y = 0\n",
    "\n",
    "    for l in lines[-200:]:\n",
    "        x += 1\n",
    "        if \"pos\" in l:\n",
    "            y += 1\n",
    "        elif \"neg\" in l:\n",
    "            y -= 1\n",
    "\n",
    "        xar.append(x)\n",
    "        yar.append(y)\n",
    "        \n",
    "    ax1.clear()\n",
    "    ax1.plot(xar,yar)\n",
    "ani = animation.FuncAnimation(fig, animate, interval=1000)\n",
    "plt.show()"
   ]
  }
 ],
 "metadata": {
  "kernelspec": {
   "display_name": "Python 3",
   "language": "python",
   "name": "python3"
  },
  "language_info": {
   "codemirror_mode": {
    "name": "ipython",
    "version": 3
   },
   "file_extension": ".py",
   "mimetype": "text/x-python",
   "name": "python",
   "nbconvert_exporter": "python",
   "pygments_lexer": "ipython3",
   "version": "3.8.3"
  }
 },
 "nbformat": 4,
 "nbformat_minor": 4
}
